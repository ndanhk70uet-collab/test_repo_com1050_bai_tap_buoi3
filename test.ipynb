{
  "nbformat": 4,
  "nbformat_minor": 0,
  "metadata": {
    "colab": {
      "provenance": []
    },
    "kernelspec": {
      "name": "python3",
      "display_name": "Python 3"
    },
    "language_info": {
      "name": "python"
    }
  },
  "cells": [
    {
      "cell_type": "code",
      "execution_count": null,
      "metadata": {
        "id": "HYKoy3dtP0bP"
      },
      "outputs": [],
      "source": [
        "bài 1\n",
        "#1 Convert 42 minutes 42 seconds to seconds\n",
        "a, b = map(int, input(\"nhập số phút và số giây:\").split())\n",
        "giây = 60*a + b\n",
        "print(f\"số giây là: {giây} giây\")"
      ]
    },
    {
      "cell_type": "code",
      "source": [
        "bài 2"
      ],
      "metadata": {
        "id": "q94fEMhIQf3S"
      },
      "execution_count": null,
      "outputs": []
    }
  ]
}