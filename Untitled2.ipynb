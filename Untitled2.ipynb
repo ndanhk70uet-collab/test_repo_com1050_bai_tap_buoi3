{
  "nbformat": 4,
  "nbformat_minor": 0,
  "metadata": {
    "colab": {
      "provenance": []
    },
    "kernelspec": {
      "name": "python3",
      "display_name": "Python 3"
    },
    "language_info": {
      "name": "python"
    }
  },
  "cells": [
    {
      "cell_type": "code",
      "execution_count": null,
      "metadata": {
        "id": "PJB-cdVEspKw"
      },
      "outputs": [],
      "source": [
        "#Câu 1\n",
        "a= input(\"nhập số nguyên: \")\n",
        "l=list(a)\n",
        "r=reversed(l)\n",
        "số_đảo_ngược=\"\".join(r)\n",
        "print(số_đảo_ngược)"
      ]
    },
    {
      "cell_type": "code",
      "source": [
        "#Câu 2\n",
        "a, b= map(int, input(\"nhập hai số nguyên: \").split())\n",
        "xor1= a^b\n",
        "xor2= xor1^a\n",
        "xor3= xor1^b\n",
        "print(xor2, xor3)"
      ],
      "metadata": {
        "id": "unBhvKd_xJiz"
      },
      "execution_count": null,
      "outputs": []
    },
    {
      "cell_type": "code",
      "source": [
        "#Câu 3\n",
        "a=int(input(\"nhập số nguyên a : \"))\n",
        "kiểm_tra_lũy_thừa= a&(a-1)\n",
        "print(kiểm_tra_lũy_thừa==0)"
      ],
      "metadata": {
        "id": "Yr821PODxOqt"
      },
      "execution_count": null,
      "outputs": []
    },
    {
      "cell_type": "code",
      "source": [
        "#Câu 4\n",
        "m, n= map(float,(input(\"nhập số m và n: \")).split())\n",
        "m_chia_n= m//n\n",
        "print(m_chia_n)"
      ],
      "metadata": {
        "id": "HoTwSSYRxPWH"
      },
      "execution_count": null,
      "outputs": []
    },
    {
      "cell_type": "code",
      "source": [
        "#Câu 5\n",
        "m, n= map(float,(input(\"nhập số m và n: \")).split())\n",
        "m_chia_n= m//n\n",
        "print(m_chia_n+1)"
      ],
      "metadata": {
        "id": "HL_xdlqGxQVq"
      },
      "execution_count": null,
      "outputs": []
    },
    {
      "cell_type": "code",
      "source": [
        "#Câu 6\n",
        "x=int(input(\"nhập số nguyên x: \"))\n",
        "if x%2==0:\n",
        " print(\"Even\")\n",
        "if x%2!=0:\n",
        " print('Odd')"
      ],
      "metadata": {
        "id": "tlDwrpicxQw-"
      },
      "execution_count": null,
      "outputs": []
    },
    {
      "cell_type": "code",
      "source": [
        "#Câu 7\n",
        "a=int(input(\"nhập số nguyên a: \"))\n",
        "b=int(input(\"nhập số nguyên b: \"))\n",
        "if a < 0 and b < 0:\n",
        " print(\"Yes\")\n",
        "else:\n",
        " print('No')"
      ],
      "metadata": {
        "id": "Y7_14jJPxZKR"
      },
      "execution_count": null,
      "outputs": []
    },
    {
      "cell_type": "code",
      "source": [
        "#Câu 8\n",
        "a=input(\"nhập chuỗi a: \")\n",
        "b=input(\"nhập chuỗi b: \")\n",
        "if a>b:\n",
        "    print(\"True\")\n",
        "else:\n",
        "    print(\"False\")"
      ],
      "metadata": {
        "id": "R3K1rsRKxY_i"
      },
      "execution_count": null,
      "outputs": []
    },
    {
      "cell_type": "code",
      "source": [
        "#Câu 9\n",
        "a=int(input(\"nhập số nguyên a: \"))\n",
        "b=int(input(\"nhập số nguyên b: \"))\n",
        "c=int(input(\"nhập số nguyên c: \"))\n",
        "if a>0 and b>0 and c>0 and a+b>c and a+c>b and b+c>a:\n",
        " print('Yes')\n",
        "else:\n",
        " print('No')"
      ],
      "metadata": {
        "id": "cqLK5DCxxYXt"
      },
      "execution_count": null,
      "outputs": []
    },
    {
      "cell_type": "code",
      "source": [
        "#Câu 10\n",
        "a=int(input(\"nhập số nguyên thứ nhất: \"))\n",
        "b=int(input(\"nhập số nguyên thứ hai: \"))\n",
        "c=int(input(\"nhập số nguyên thứ ba: \"))\n",
        "d=int(input(\"nhập số nguyên thứ tư: \"))\n",
        "if a>=b and c and d:\n",
        "    print(a)\n",
        "if b>=a and c and d:\n",
        "    print(b)\n",
        "if c>=b and c and a:\n",
        " print(c)\n",
        "else:\n",
        "   print(d)"
      ],
      "metadata": {
        "id": "uv2b19pixgD4"
      },
      "execution_count": null,
      "outputs": []
    },
    {
      "cell_type": "code",
      "source": [
        "#Câu 11\n",
        "a, b, c=map(int, input(\"nhập 3 số nguyên dương: \").split())\n",
        "if a>0 and b>0 and c>0 and a+b>c and a+c>b and b+c>a and a!=b!=c:\n",
        "    print(\"Tam giác thường\")\n",
        "elif a==b==c and a>0 and b>0 and c>0:\n",
        " print(\"Tam giác đều\")\n",
        "elif a==b!=c or a==c!=b or b==c!=a and a>0 and b>0 and c>0:\n",
        " print(\"Tam giác cân\")\n",
        "else:\n",
        "  print(\"Không phải tam giác\")"
      ],
      "metadata": {
        "id": "UghM8B9Lxf5g"
      },
      "execution_count": null,
      "outputs": []
    },
    {
      "cell_type": "code",
      "source": [
        "#Câu 12\n",
        "n=int(input(\"nhập số năm: \"))\n",
        "if n%4==0 and n%100!=0:\n",
        "    print('Yes')\n",
        "elif n%400==0:\n",
        "    print('Yes')\n",
        "else:\n",
        "    print('No')"
      ],
      "metadata": {
        "id": "1hZdo4Xlxfqh"
      },
      "execution_count": null,
      "outputs": []
    },
    {
      "cell_type": "code",
      "source": [
        "#Câu 13\n",
        "kWh=float(input(\"nhập số kWh điện tiêu thụ: \"))\n",
        "if 0<=kWh<=50:\n",
        "    print(1500*kWh)\n",
        "if 51<=kWh<=100:\n",
        "    print(2000*(kWh-50)+50*1500)\n",
        "if kWh>100:\n",
        "    print(3000*(kWh-100)+50*3500)"
      ],
      "metadata": {
        "id": "gte0P7hzxvIb"
      },
      "execution_count": null,
      "outputs": []
    },
    {
      "cell_type": "code",
      "source": [
        "#Câu 14\n",
        "a=float(input(\"nhập số thực a: \"))\n",
        "b=float(input(\"nhập số thực b: \"))\n",
        "if a==0 and b!=0:\n",
        " print('Vô nghiệm')\n",
        "if a==0 and b==0:\n",
        " print('Vô số nghiệm')\n",
        "if a!=0:\n",
        " print(round(-b/a,2))"
      ],
      "metadata": {
        "id": "axw6KqgUxu1F"
      },
      "execution_count": null,
      "outputs": []
    },
    {
      "cell_type": "code",
      "source": [
        "#Câu 15\n",
        "điểm_trung_bình= float(input(\"nhập điểm trung bình: \"))\n",
        "if điểm_trung_bình>=8.0:\n",
        "    print('Giỏi')\n",
        "if 8.0>điểm_trung_bình>=6.5:\n",
        "    print(\"Khá\")\n",
        "if 6.5>điểm_trung_bình>=5.0:\n",
        "    print(\"Trung bình\")\n",
        "if điểm_trung_bình<5.0:\n",
        "    print('Yếu')"
      ],
      "metadata": {
        "id": "eFEpnwpvxutF"
      },
      "execution_count": null,
      "outputs": []
    },
    {
      "cell_type": "code",
      "source": [
        "#Câu 16\n",
        "a=float(input(\"nhập số thực: \"))\n",
        "phần_nguyên=a//1\n",
        "if (a-phần_nguyên)>=0.5:\n",
        " print(phần_nguyên+1, phần_nguyên, phần_nguyên+1 )\n",
        "if 0<(a-phần_nguyên)<0.5:\n",
        " print(phần_nguyên+1, phần_nguyên, phần_nguyên)\n",
        "if (a-phần_nguyên)==0:\n",
        " print(a, a, a)"
      ],
      "metadata": {
        "id": "op714fOixufv"
      },
      "execution_count": null,
      "outputs": []
    }
  ]
}